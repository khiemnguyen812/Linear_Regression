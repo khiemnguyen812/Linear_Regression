{
 "cells": [
  {
   "cell_type": "markdown",
   "metadata": {},
   "source": [
    "# <center>Đồ án 3: Linear Regression</center>"
   ]
  },
  {
   "cell_type": "markdown",
   "metadata": {},
   "source": [
    "# Thông tin sinh viên\n",
    "\n",
    "- Họ và tên: \n",
    "- MSSV: \n",
    "- Lớp: "
   ]
  },
  {
   "cell_type": "markdown",
   "metadata": {},
   "source": [
    "# Import"
   ]
  },
  {
   "cell_type": "code",
   "execution_count": 2,
   "metadata": {},
   "outputs": [],
   "source": [
    "import pandas as pd\n",
    "import numpy as np\n",
    "import math\n",
    "import time\n",
    "\n",
    "from sklearn.linear_model import LinearRegression\n",
    "from sklearn.model_selection import cross_val_score\n",
    "from sklearn.metrics import mean_absolute_error\n",
    "from itertools import combinations\n"
   ]
  },
  {
   "cell_type": "markdown",
   "metadata": {},
   "source": [
    "# Đọc dữ liệu"
   ]
  },
  {
   "cell_type": "code",
   "execution_count": 3,
   "metadata": {},
   "outputs": [],
   "source": [
    "train_1 = pd.read_csv('train.csv')\n",
    "train_1 = train_1.sample(frac=1) # xáo trộn dữ liệu\n",
    "# Đọc tập kiểm tra\n",
    "test_1 = pd.read_csv('test.csv')"
   ]
  },
  {
   "cell_type": "markdown",
   "metadata": {},
   "source": [
    "# Cài đặt hàm"
   ]
  },
  {
   "cell_type": "code",
   "execution_count": 4,
   "metadata": {},
   "outputs": [],
   "source": [
    "# Cài đặt các hàm cần thiết ở đây"
   ]
  },
  {
   "cell_type": "markdown",
   "metadata": {},
   "source": [
    "# Yêu cầu 1a: Sử dụng toàn bộ 11 đặc trưng đầu tiên `Gender`, `10percentage`, `12percentage`, `CollegeTier`, `Degree`, `collegeGPA`, `CollegeCityTier`, `English`, `Logical`, `Quant`, `Domain` (2 điểm) "
   ]
  },
  {
   "cell_type": "code",
   "execution_count": 5,
   "metadata": {},
   "outputs": [
    {
     "name": "stdout",
     "output_type": "stream",
     "text": [
      "            Feature   Coefficient\n",
      "0            Gender -23183.329508\n",
      "1      10percentage    702.766792\n",
      "2      12percentage   1259.018788\n",
      "3       CollegeTier -99570.608141\n",
      "4            Degree  18369.962450\n",
      "5        collegeGPA   1297.532000\n",
      "6   CollegeCityTier  -8836.727123\n",
      "7           English    141.759939\n",
      "8           Logical    145.742347\n",
      "9             Quant    114.643313\n",
      "10           Domain  34955.750405\n",
      "y(Salary) =  49248.090 - 23183.330 * Gender + 702.767 * 10percentage + 1259.019 * 12percentage - 99570.608 * CollegeTier + 18369.962 * Degree + 1297.532 * collegeGPA - 8836.727 * CollegeCityTier + 141.760 * English + 145.742 * Logical + 114.643 * Quant + 34955.750 * Domain\n"
     ]
    }
   ],
   "source": [
    "# Phần code cho yêu cầu 1a\n",
    "reg1 = LinearRegression().fit(train_1.iloc[:, :11], train_1.iloc[:, -1]) # Lấy 11 thuộc tính đầu tiên của train_1\n",
    "\n",
    "# Hiển thị công thức hồi quy tuyến tính\n",
    "coef = pd.DataFrame({'Feature': train_1.iloc[:, :11].columns, 'Coefficient': reg1.coef_})\n",
    "\n",
    "# Lấy hệ số chặn (intercept)\n",
    "intercept = reg1.intercept_\n",
    "\n",
    "# Tạo chuỗi biểu diễn công thức hồi quy tuyến tính\n",
    "formula_parts = [f'{intercept:.3f}']  # Thêm hệ số chặn vào chuỗi công thức\n",
    "\n",
    "for index, row in coef.iterrows():\n",
    "    if row['Coefficient'] >= 0:\n",
    "        formula_parts.append(f\"+ {row['Coefficient']:.3f} * {row['Feature']}\")\n",
    "    else:\n",
    "        formula_parts.append(f\"- {abs(row['Coefficient']):.3f} * {row['Feature']}\")\n",
    "\n",
    "print(coef)\n",
    "linear_formula = \" \".join(formula_parts)\n",
    "print(\"y(Salary) = \", linear_formula)\n",
    "\n"
   ]
  },
  {
   "cell_type": "code",
   "execution_count": 6,
   "metadata": {},
   "outputs": [
    {
     "name": "stdout",
     "output_type": "stream",
     "text": [
      "Mean Absolute Error (MAE): 105052.52978823149\n"
     ]
    }
   ],
   "source": [
    "# Gọi hàm MAE (tự cài đặt hoặc từ thư viện) trên tập kiểm tra\n",
    "mae = mean_absolute_error(test_1['Salary'], reg1.predict(test_1.iloc[:,:11]))\n",
    "print(\"Mean Absolute Error (MAE):\", mae)"
   ]
  },
  {
   "attachments": {},
   "cell_type": "markdown",
   "metadata": {},
   "source": [
    "Công thức hồi quy (phần trọng số làm tròn đến 3 chữ số thập phân, ví dụ 0.012345 $\\to$ 0.012)\n",
    "\n",
    "$$\\text{Salary} =  49248.090 - 23183.330 * Gender + 702.767 * 10percentage + 1259.019 * 12percentage - 99570.608 * CollegeTier + 18369.962 * Degree + 1297.532 * collegeGPA - 8836.727 * CollegeCityTier + 141.760 * English + 145.742 * Logical + 114.643 * Quant + 34955.750 * Domain$$"
   ]
  },
  {
   "cell_type": "markdown",
   "metadata": {},
   "source": [
    "# Yêu cầu 1b: Xây dựng mô hình sử dụng duy nhất 1 đặc trưng tính cách với các đặc trưng tính cách gồm `conscientiousness`, `agreeableness`, `extraversion`, `nueroticism`, `openess_to_experience`, tìm mô hình cho kết quả tốt nhất (1 điểm)"
   ]
  },
  {
   "cell_type": "markdown",
   "metadata": {},
   "source": [
    "Lưu ý: khi sử dụng cross-validation, sinh viên cần xáo trộn dữ liệu 1 lần duy nhất và thực hiện trên toàn bộ đặc trưng"
   ]
  },
  {
   "cell_type": "code",
   "execution_count": 7,
   "metadata": {},
   "outputs": [
    {
     "name": "stdout",
     "output_type": "stream",
     "text": [
      "                 Feature       Mean_MAE\n",
      "0      conscientiousness  124245.693661\n",
      "1          agreeableness  123716.763359\n",
      "2           extraversion  123936.547860\n",
      "3            nueroticism  123553.104205\n",
      "4  openess_to_experience  123889.396829\n",
      "Best personality feature: nueroticism\n"
     ]
    }
   ],
   "source": [
    "# Phần code cho yêu cầu 1b\n",
    "# Tìm ra đặc trưng tốt nhất\n",
    "# In ra các kết quả cross-validation như yêu cầu\n",
    "personality_features = ['conscientiousness', 'agreeableness', 'extraversion', 'nueroticism', 'openess_to_experience']\n",
    "\n",
    "# Tạo DataFrame để lưu kết quả của k-fold Cross Validation cho mỗi đặc trưng\n",
    "cv_results_b = pd.DataFrame(columns=['Feature', 'Mean_MAE'])\n",
    "\n",
    "for feature in personality_features:\n",
    "    # Tạo DataFrame chứa đặc trưng cần kiểm tra và cột 'Salary'\n",
    "    train_b = train_1[[feature, 'Salary']]\n",
    "    \n",
    "    # Xây dựng mô hình hồi quy tuyến tính\n",
    "    reg_b = LinearRegression().fit(train_b[[feature]], train_b['Salary'])\n",
    "    \n",
    "    # Sử dụng k-fold Cross Validation để tính Mean Absolute Error (MAE)\n",
    "    mae_scores = -cross_val_score(reg_b, train_b[[feature]], train_b['Salary'], cv=5, scoring='neg_mean_absolute_error')\n",
    "    mean_mae = np.mean(mae_scores)\n",
    "    \n",
    "    # Lưu kết quả vào DataFrame\n",
    "    cv_results_b = pd.concat([cv_results_b, pd.DataFrame({'Feature': [feature], 'Mean_MAE': [mean_mae]})], ignore_index=True)\n",
    "\n",
    "print(cv_results_b)\n",
    "# Chọn đặc trưng tính cách tốt nhất\n",
    "best_feature_b = cv_results_b.loc[cv_results_b['Mean_MAE'].idxmin()]['Feature']\n",
    "\n",
    "print(\"Best personality feature:\", best_feature_b)\n",
    "\n",
    "# Đọc tập kiểm tra\n",
    "test_1 = pd.read_csv('test.csv')\n",
    "\n",
    "\n"
   ]
  },
  {
   "cell_type": "code",
   "execution_count": 8,
   "metadata": {},
   "outputs": [],
   "source": [
    "# Huấn luyện lại mô hình best_personality_feature_model với đặc trưng tốt nhất trên toàn bộ tập huấn luyện\n",
    "reg_best = LinearRegression().fit(train_1[[best_feature_b]], train_1['Salary'])"
   ]
  },
  {
   "cell_type": "code",
   "execution_count": 9,
   "metadata": {},
   "outputs": [
    {
     "name": "stdout",
     "output_type": "stream",
     "text": [
      "Mean Absolute Error on test set: 119361.91739987816\n",
      "Best linear formula: 304647.553 + -16021.494 * nueroticism\n"
     ]
    }
   ],
   "source": [
    "# Gọi hàm MAE (tự cài đặt hoặc từ thư viện) trên tập kiểm tra với mô hình best_personality_feature_model\n",
    "# Dự đoán giá trị trên tập kiểm tra\n",
    "predictions = reg_best.predict(test_1[[best_feature_b]])\n",
    "# Tính Mean Absolute Error trên tập kiểm tra\n",
    "mae_test = mean_absolute_error(test_1['Salary'], predictions)\n",
    "print(\"Mean Absolute Error on test set:\", mae_test)\n",
    "\n",
    "# Hiển thị công thức hồi quy tuyến tính cho đặc trưng tốt nhất\n",
    "intercept_best = reg_best.intercept_\n",
    "linear_formula_best = f\"{intercept_best:.3f} + {reg_best.coef_[0]:.3f} * {best_feature_b}\"\n",
    "print(\"Best linear formula:\", linear_formula_best)"
   ]
  },
  {
   "attachments": {},
   "cell_type": "markdown",
   "metadata": {},
   "source": [
    "Công thức hồi quy (phần trọng số làm tròn đến 3 chữ số thập phân, ví dụ 0.012345 $\\to$ 0.012)\n",
    "\n",
    "$$\\text{Salary} = 304647.553 + -16021.494 * nueroticism$$"
   ]
  },
  {
   "cell_type": "markdown",
   "metadata": {},
   "source": [
    "# Yêu cầu 1c: Xây dựng mô hình sử dụng duy nhất 1 đặc trưng `English`, `Logical`, `Quant`, tìm mô hình cho kết quả tốt nhất (1 điểm)"
   ]
  },
  {
   "cell_type": "markdown",
   "metadata": {},
   "source": [
    "Lưu ý: khi sử dụng cross-validation, sinh viên cần xáo trộn dữ liệu 1 lần duy nhất và thực hiện trên toàn bộ đặc trưng"
   ]
  },
  {
   "cell_type": "code",
   "execution_count": 10,
   "metadata": {},
   "outputs": [
    {
     "name": "stdout",
     "output_type": "stream",
     "text": [
      "   Feature       Mean_MAE\n",
      "0  English  120774.495979\n",
      "1  Logical  119944.177743\n",
      "2    Quant  117217.426871\n",
      "Best numerical feature: Quant\n"
     ]
    }
   ],
   "source": [
    "# Phần code cho yêu cầu 1c\n",
    "# Tìm ra đặc trưng tốt nhất\n",
    "# In ra các kết quả cross-validation như yêu cầu\n",
    "numerical_features = ['English', 'Logical', 'Quant']\n",
    "\n",
    "# Tạo DataFrame để lưu kết quả của k-fold Cross Validation cho mỗi đặc trưng\n",
    "cv_results_c = pd.DataFrame(columns=['Feature', 'Mean_MAE'])\n",
    "\n",
    "for feature in numerical_features:\n",
    "    # Tạo DataFrame chứa đặc trưng cần kiểm tra và cột 'Salary'\n",
    "    train_c = train_1[[feature, 'Salary']]\n",
    "    \n",
    "    # Xây dựng mô hình hồi quy tuyến tính\n",
    "    reg_c = LinearRegression().fit(train_c[[feature]], train_c['Salary'])\n",
    "    \n",
    "    # Sử dụng k-fold Cross Validation để tính Mean Absolute Error (MAE)\n",
    "    mae_scores = -cross_val_score(reg_c, train_c[[feature]], train_c['Salary'], cv=5, scoring='neg_mean_absolute_error')\n",
    "    mean_mae = np.mean(mae_scores)\n",
    "    \n",
    "    # Lưu kết quả vào DataFrame\n",
    "    cv_results_c = pd.concat([cv_results_c, pd.DataFrame({'Feature': [feature], 'Mean_MAE': [mean_mae]})], ignore_index=True)\n",
    "\n",
    "print(cv_results_c)\n",
    "# Chọn đặc trưng ngoại ngữ, lô-gic, định lượng tốt nhất\n",
    "best_feature_c = cv_results_c.loc[cv_results_c['Mean_MAE'].idxmin()]['Feature']\n",
    "print(\"Best numerical feature:\", best_feature_c)"
   ]
  },
  {
   "cell_type": "code",
   "execution_count": 11,
   "metadata": {},
   "outputs": [],
   "source": [
    "# Huấn luyện lại mô hình best_skill_feature_model với đặc trưng tốt nhất trên toàn bộ tập huấn luyện\n",
    "reg_best = LinearRegression().fit(train_1[[best_feature_c]], train_1['Salary'])"
   ]
  },
  {
   "cell_type": "code",
   "execution_count": 12,
   "metadata": {},
   "outputs": [
    {
     "name": "stdout",
     "output_type": "stream",
     "text": [
      "Mean Absolute Error on test set: 108814.05968837196\n",
      "Best linear formula: 117759.729 + 368.852 * Quant\n"
     ]
    }
   ],
   "source": [
    "# Gọi hàm MAE (tự cài đặt hoặc từ thư viện) trên tập kiểm tra với mô hình best_skill_feature_model\n",
    "# Dự đoán giá trị trên tập kiểm tra\n",
    "predictions = reg_best.predict(test_1[[best_feature_c]])\n",
    "\n",
    "# Tính Mean Absolute Error trên tập kiểm tra\n",
    "mae_test = mean_absolute_error(test_1['Salary'], predictions)\n",
    "print(\"Mean Absolute Error on test set:\", mae_test)\n",
    "\n",
    "# Hiển thị công thức hồi quy tuyến tính cho đặc trưng tốt nhất\n",
    "intercept_best = reg_best.intercept_\n",
    "linear_formula_best = f\"{intercept_best:.3f} + {reg_best.coef_[0]:.3f} * {best_feature_c}\"\n",
    "print(\"Best linear formula:\", linear_formula_best)"
   ]
  },
  {
   "attachments": {},
   "cell_type": "markdown",
   "metadata": {},
   "source": [
    "Công thức hồi quy (phần trọng số làm tròn đến 3 chữ số thập phân, ví dụ 0.012345 $\\to$ 0.012)\n",
    "\n",
    "$$\\text{Salary} = 117759.729 + 368.852 * Quant$$"
   ]
  },
  {
   "cell_type": "markdown",
   "metadata": {},
   "source": [
    "# Yêu cầu 1d: Sinh viên tự xây dựng mô hình, tìm mô hình cho kết quả tốt nhất (3 điểm)"
   ]
  },
  {
   "cell_type": "markdown",
   "metadata": {},
   "source": [
    "Lưu ý: khi sử dụng cross-validation, sinh viên cần xáo trộn dữ liệu 1 lần duy nhất và thực hiện trên toàn bộ $m$ mô hình mà sinh viên thiết kế"
   ]
  },
  {
   "cell_type": "markdown",
   "metadata": {},
   "source": [
    "## Tìm mô hình"
   ]
  },
  {
   "cell_type": "code",
   "execution_count": 13,
   "metadata": {},
   "outputs": [],
   "source": [
    "# Trình bày các phần tìm ra mô hình\n",
    "# Có 3 mô hình\n",
    "# Danh sách 23 đặc trưng\n",
    "all_features = ['Gender', '10percentage', '12percentage', 'CollegeTier', 'Degree', 'collegeGPA', 'CollegeCityTier',\n",
    "                'English', 'Logical', 'Quant', 'Domain', 'ComputerProgramming', 'ElectronicsAndSemicon', 'ComputerScience',\n",
    "                'MechanicalEngg', 'ElectricalEngg', 'TelecomEngg', 'CivilEngg', 'conscientiousness', 'agreeableness',\n",
    "                'extraversion', 'nueroticism', 'openess_to_experience']\n",
    "\n",
    "def calculate_mae_for_feature_combination(data, feature_combination):\n",
    "    # Chuyển tuple thành danh sách\n",
    "    feature_list = list(feature_combination)\n",
    "    \n",
    "    # Tạo DataFrame chứa các đặc trưng cần kiểm tra và cột 'Salary'\n",
    "    train_data = data[feature_list + ['Salary']]\n",
    "    \n",
    "    # Xây dựng mô hình hồi quy tuyến tính\n",
    "    reg = LinearRegression().fit(train_data[feature_list], train_data['Salary'])\n",
    "    \n",
    "    # Sử dụng k-fold Cross Validation để tính Mean Absolute Error (MAE)\n",
    "    mae_scores = -cross_val_score(reg, train_data[feature_list], train_data['Salary'], cv=5, scoring='neg_mean_absolute_error')\n",
    "    mean_mae = np.mean(mae_scores)\n",
    "    \n",
    "    return mean_mae\n",
    "\n",
    "def create_linear_formula(coefficients, intercept, feature_names):\n",
    "    formula_parts = [f'{intercept:.3f}']  # Thêm hệ số chặn vào chuỗi công thức\n",
    "\n",
    "    for coef, feature_name in zip(coefficients, feature_names):\n",
    "        if coef >= 0:\n",
    "            formula_parts.append(f\"+ {coef:.3f} * {feature_name}\")\n",
    "        else:\n",
    "            formula_parts.append(f\"- {abs(coef):.3f} * {feature_name}\")\n",
    "\n",
    "    linear_formula = \" \".join(formula_parts)\n",
    "    return linear_formula\n",
    "\n",
    "def find_best_feature_combination(data, features, num_features):\n",
    "    best_mae = float('inf')  # Khởi tạo MAE tốt nhất ban đầu là vô cùng lớn\n",
    "    best_combination = None   # Lưu lại tổ hợp tốt nhất\n",
    "    \n",
    "    # Tạo tất cả các tổ hợp có thể của num_features đặc trưng từ danh sách\n",
    "    feature_combinations = combinations(features, num_features)\n",
    "    \n",
    "    for feature_combination in feature_combinations:\n",
    "        # Tính MAE cho tổ hợp đặc trưng hiện tại\n",
    "        current_mae = calculate_mae_for_feature_combination(data, feature_combination)\n",
    "        \n",
    "        # Kiểm tra xem tổ hợp hiện tại có tốt hơn tổ hợp tốt nhất hiện tại hay không\n",
    "        if current_mae < best_mae:\n",
    "            best_mae = current_mae\n",
    "            best_combination = feature_combination\n",
    "    \n",
    "    # Tạo mô hình hồi quy tốt nhất với tổ hợp tốt nhất\n",
    "    best_feature_names = list(best_combination)\n",
    "    best_model = LinearRegression().fit(data[best_feature_names], data['Salary'])\n",
    "    \n",
    "    # Dự đoán giá trị trên tập kiểm tra\n",
    "    predictions = best_model.predict(test_1[best_feature_names])\n",
    "\n",
    "    # Tính Mean Absolute Error trên tập kiểm tra\n",
    "    mae_test = mean_absolute_error(test_1['Salary'], predictions)\n",
    "    \n",
    "    # Tạo hàm y(Salary) từ mô hình tốt nhất\n",
    "    linear_formula = create_linear_formula(best_model.coef_, best_model.intercept_, best_feature_names)\n",
    "    \n",
    "    return best_combination, mae_test, linear_formula\n",
    "\n",
    "def model(num_features):\n",
    "    best_combination, best_mae, linear_formula = find_best_feature_combination(train_1, all_features, num_features)\n",
    "    print(f\"Best feature combination: {best_combination}\")\n",
    "    print(f\"Best Mean Absolute Error on set test: {best_mae:.3f}\")\n",
    "    print(\"Linear formula:\", linear_formula)\n",
    "    return best_combination, best_mae, linear_formula"
   ]
  },
  {
   "cell_type": "markdown",
   "metadata": {},
   "source": [
    "## Thử nghiệm, so sánh các mô hình"
   ]
  },
  {
   "cell_type": "code",
   "execution_count": 14,
   "metadata": {},
   "outputs": [
    {
     "name": "stdout",
     "output_type": "stream",
     "text": [
      "Best feature combination: ('10percentage', 'Quant')\n",
      "Best Mean Absolute Error on set test: 106022.179\n",
      "Linear formula: -21420.874 + 2178.347 * 10percentage + 310.968 * Quant\n",
      "Thời gian chạy: 3.993 giây\n",
      "\n",
      "\n",
      "Best feature combination: ('10percentage', 'Quant', 'ComputerProgramming')\n",
      "Best Mean Absolute Error on set test: 104794.139\n",
      "Linear formula: -47200.597 + 2195.725 * 10percentage + 284.155 * Quant + 107.263 * ComputerProgramming\n",
      "Thời gian chạy: 28.544 giây\n",
      "\n",
      "\n",
      "Best feature combination: ('10percentage', 'Quant', 'ComputerProgramming', 'ComputerScience')\n",
      "Best Mean Absolute Error on set test: 103141.108\n",
      "Linear formula: -35516.003 + 2141.270 * 10percentage + 272.858 * Quant + 144.423 * ComputerProgramming - 156.966 * ComputerScience\n",
      "Thời gian chạy: 145.120 giây\n",
      "\n",
      "\n"
     ]
    }
   ],
   "source": [
    "# Phần code cho yêu cầu 1d\n",
    "# Tìm ra mô hình tốt nhất (tự thiết kế bởi sinh viên)\n",
    "# In ra các kết quả cross-validation như yêu cầu\n",
    "mae_scores = []\n",
    "for i in range(2,5):\n",
    "    start_time = time.time()\n",
    "    mae=0\n",
    "    if i == 2:\n",
    "        _,mae,_ = model(2)\n",
    "    elif i == 3:\n",
    "        _,mae,_ = model(3)\n",
    "    elif i == 4:\n",
    "        _,mae,_ = model(4)\n",
    "    \n",
    "    end_time = time.time()\n",
    "    execution_time = end_time - start_time\n",
    "    \n",
    "    print(f\"Thời gian chạy: {execution_time:.3f} giây\\n\\n\")\n",
    "    mae_scores.append(mae)"
   ]
  },
  {
   "cell_type": "code",
   "execution_count": 15,
   "metadata": {},
   "outputs": [
    {
     "name": "stdout",
     "output_type": "stream",
     "text": [
      "Best feature combination: ('10percentage', 'Quant', 'ComputerProgramming', 'ComputerScience')\n",
      "Best Mean Absolute Error on set test: 103141.108\n",
      "Linear formula: -35516.003 + 2141.270 * 10percentage + 272.858 * Quant + 144.423 * ComputerProgramming - 156.966 * ComputerScience\n"
     ]
    },
    {
     "data": {
      "text/plain": [
       "(('10percentage', 'Quant', 'ComputerProgramming', 'ComputerScience'),\n",
       " 103141.10846961295,\n",
       " '-35516.003 + 2141.270 * 10percentage + 272.858 * Quant + 144.423 * ComputerProgramming - 156.966 * ComputerScience')"
      ]
     },
     "execution_count": 15,
     "metadata": {},
     "output_type": "execute_result"
    }
   ],
   "source": [
    "# Huấn luyện lại mô hình my_best_model trên toàn bộ tập huấn luyện\n",
    "model(np.argmin(mae_scores)+2)\n"
   ]
  },
  {
   "cell_type": "code",
   "execution_count": 16,
   "metadata": {},
   "outputs": [
    {
     "name": "stdout",
     "output_type": "stream",
     "text": [
      "108814.05968837196\n"
     ]
    }
   ],
   "source": [
    "# Gọi hàm MAE (tự cài đặt hoặc từ thư viện) trên tập kiểm tra với mô hình my_best_model\n",
    "print(mae_test)"
   ]
  },
  {
   "attachments": {},
   "cell_type": "markdown",
   "metadata": {},
   "source": [
    "Công thức hồi quy (phần trọng số làm tròn đến 3 chữ số thập phân, ví dụ 0.012345 $\\to$ 0.012)\n",
    "\n",
    "$$\\text{Salary} =  -35516.003 + 2141.270 * 10percentage + 272.858 * Quant + 144.423 * ComputerProgramming - 156.966 * ComputerScience$$"
   ]
  }
 ],
 "metadata": {
  "kernelspec": {
   "display_name": "Python 3.8.5 ('base')",
   "language": "python",
   "name": "python3"
  },
  "language_info": {
   "codemirror_mode": {
    "name": "ipython",
    "version": 3
   },
   "file_extension": ".py",
   "mimetype": "text/x-python",
   "name": "python",
   "nbconvert_exporter": "python",
   "pygments_lexer": "ipython3",
   "version": "3.11.2"
  },
  "orig_nbformat": 4,
  "vscode": {
   "interpreter": {
    "hash": "15af99fd1a1a3f0a3416ea421564e792a8676a13670c2eed127d89ab0518a27b"
   }
  }
 },
 "nbformat": 4,
 "nbformat_minor": 2
}
